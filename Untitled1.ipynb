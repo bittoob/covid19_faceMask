{
 "cells": [
  {
   "cell_type": "code",
   "execution_count": 1,
   "metadata": {},
   "outputs": [],
   "source": [
    "import cv2"
   ]
  },
  {
   "cell_type": "markdown",
   "metadata": {},
   "source": [
    "# 1. Load the image"
   ]
  },
  {
   "cell_type": "code",
   "execution_count": 2,
   "metadata": {},
   "outputs": [],
   "source": [
    "img = cv2.imread('images.jpg')"
   ]
  },
  {
   "cell_type": "markdown",
   "metadata": {},
   "source": [
    "Shape of image"
   ]
  },
  {
   "cell_type": "code",
   "execution_count": 3,
   "metadata": {},
   "outputs": [
    {
     "data": {
      "text/plain": [
       "(194, 259, 3)"
      ]
     },
     "execution_count": 3,
     "metadata": {},
     "output_type": "execute_result"
    }
   ],
   "source": [
    "img.shape      # height -> 194 and width -> 259\n",
    "               # 3 -> rgb channel (red, green, blue)"
   ]
  },
  {
   "cell_type": "markdown",
   "metadata": {},
   "source": [
    "Array form of image"
   ]
  },
  {
   "cell_type": "code",
   "execution_count": 4,
   "metadata": {},
   "outputs": [
    {
     "data": {
      "text/plain": [
       "array([[206, 229, 221],\n",
       "       [206, 229, 221],\n",
       "       [206, 229, 221],\n",
       "       [206, 229, 221],\n",
       "       [206, 229, 221],\n",
       "       [206, 229, 221],\n",
       "       [206, 229, 221],\n",
       "       [206, 229, 221],\n",
       "       [207, 230, 222],\n",
       "       [207, 230, 222],\n",
       "       [207, 230, 222],\n",
       "       [208, 231, 223],\n",
       "       [208, 231, 223],\n",
       "       [208, 231, 223],\n",
       "       [209, 232, 224],\n",
       "       [209, 232, 224],\n",
       "       [208, 231, 223],\n",
       "       [208, 231, 223],\n",
       "       [208, 231, 223],\n",
       "       [209, 232, 224],\n",
       "       [209, 232, 224],\n",
       "       [210, 233, 225],\n",
       "       [210, 233, 225],\n",
       "       [210, 233, 225],\n",
       "       [209, 232, 224],\n",
       "       [209, 232, 224],\n",
       "       [210, 233, 225],\n",
       "       [210, 233, 225],\n",
       "       [210, 233, 225],\n",
       "       [211, 234, 226],\n",
       "       [211, 234, 226],\n",
       "       [211, 234, 226],\n",
       "       [210, 234, 226],\n",
       "       [210, 234, 226],\n",
       "       [211, 235, 227],\n",
       "       [211, 235, 227],\n",
       "       [212, 236, 228],\n",
       "       [212, 236, 228],\n",
       "       [212, 236, 228],\n",
       "       [212, 236, 228],\n",
       "       [213, 237, 229],\n",
       "       [213, 237, 229],\n",
       "       [213, 237, 229],\n",
       "       [213, 237, 229],\n",
       "       [213, 237, 229],\n",
       "       [213, 237, 229],\n",
       "       [213, 237, 229],\n",
       "       [211, 238, 229],\n",
       "       [210, 237, 227],\n",
       "       [213, 243, 232],\n",
       "       [217, 242, 232],\n",
       "       [213, 238, 228],\n",
       "       [214, 235, 227],\n",
       "       [212, 233, 225],\n",
       "       [202, 218, 211],\n",
       "       [184, 200, 193],\n",
       "       [175, 189, 183],\n",
       "       [174, 188, 182],\n",
       "       [171, 185, 179],\n",
       "       [164, 180, 173],\n",
       "       [153, 169, 162],\n",
       "       [138, 156, 149],\n",
       "       [123, 144, 136],\n",
       "       [116, 137, 129],\n",
       "       [115, 132, 128],\n",
       "       [115, 132, 128],\n",
       "       [116, 133, 129],\n",
       "       [117, 134, 130],\n",
       "       [118, 135, 131],\n",
       "       [118, 135, 131],\n",
       "       [119, 136, 132],\n",
       "       [119, 136, 132],\n",
       "       [111, 128, 124],\n",
       "       [113, 130, 126],\n",
       "       [116, 133, 129],\n",
       "       [120, 137, 133],\n",
       "       [122, 139, 135],\n",
       "       [123, 140, 136],\n",
       "       [121, 138, 134],\n",
       "       [119, 136, 132],\n",
       "       [127, 141, 135],\n",
       "       [126, 140, 134],\n",
       "       [126, 138, 132],\n",
       "       [125, 137, 131],\n",
       "       [124, 136, 130],\n",
       "       [123, 135, 129],\n",
       "       [125, 134, 131],\n",
       "       [125, 134, 131],\n",
       "       [125, 134, 131],\n",
       "       [125, 134, 131],\n",
       "       [127, 133, 132],\n",
       "       [126, 132, 131],\n",
       "       [126, 132, 131],\n",
       "       [126, 132, 131],\n",
       "       [125, 131, 130],\n",
       "       [123, 131, 130],\n",
       "       [123, 131, 130],\n",
       "       [121, 132, 130],\n",
       "       [121, 132, 130],\n",
       "       [121, 132, 130],\n",
       "       [121, 132, 130],\n",
       "       [121, 132, 130],\n",
       "       [121, 132, 130],\n",
       "       [121, 132, 130],\n",
       "       [122, 133, 131],\n",
       "       [122, 133, 131],\n",
       "       [121, 132, 130],\n",
       "       [120, 131, 129],\n",
       "       [119, 130, 128],\n",
       "       [118, 129, 127],\n",
       "       [118, 129, 127],\n",
       "       [117, 128, 126],\n",
       "       [131, 137, 136],\n",
       "       [131, 137, 136],\n",
       "       [128, 136, 135],\n",
       "       [130, 138, 137],\n",
       "       [134, 142, 141],\n",
       "       [140, 148, 147],\n",
       "       [144, 155, 152],\n",
       "       [148, 159, 156],\n",
       "       [157, 169, 163],\n",
       "       [162, 174, 168],\n",
       "       [167, 181, 175],\n",
       "       [169, 183, 177],\n",
       "       [170, 185, 177],\n",
       "       [172, 187, 179],\n",
       "       [177, 194, 185],\n",
       "       [181, 199, 192],\n",
       "       [207, 229, 224],\n",
       "       [220, 243, 239],\n",
       "       [230, 253, 249],\n",
       "       [229, 252, 248],\n",
       "       [228, 251, 247],\n",
       "       [233, 255, 252],\n",
       "       [233, 255, 252],\n",
       "       [229, 252, 248],\n",
       "       [229, 252, 248],\n",
       "       [230, 253, 249],\n",
       "       [230, 253, 249],\n",
       "       [230, 253, 249],\n",
       "       [231, 254, 250],\n",
       "       [231, 254, 250],\n",
       "       [231, 254, 250],\n",
       "       [232, 253, 254],\n",
       "       [234, 255, 255],\n",
       "       [224, 244, 255],\n",
       "       [220, 241, 249],\n",
       "       [230, 252, 255],\n",
       "       [234, 255, 255],\n",
       "       [232, 255, 253],\n",
       "       [225, 251, 245],\n",
       "       [224, 251, 242],\n",
       "       [232, 255, 251],\n",
       "       [231, 255, 250],\n",
       "       [228, 255, 248],\n",
       "       [226, 255, 246],\n",
       "       [224, 251, 247],\n",
       "       [226, 253, 249],\n",
       "       [228, 255, 252],\n",
       "       [233, 255, 255],\n",
       "       [232, 251, 255],\n",
       "       [239, 255, 255],\n",
       "       [243, 254, 255],\n",
       "       [235, 244, 253],\n",
       "       [226, 230, 241],\n",
       "       [216, 216, 228],\n",
       "       [199, 197, 209],\n",
       "       [182, 178, 190],\n",
       "       [155, 145, 161],\n",
       "       [134, 124, 140],\n",
       "       [103,  93, 109],\n",
       "       [ 78,  68,  84],\n",
       "       [ 66,  56,  73],\n",
       "       [ 63,  53,  70],\n",
       "       [ 62,  54,  71],\n",
       "       [ 63,  55,  72],\n",
       "       [ 59,  47,  67],\n",
       "       [ 57,  45,  65],\n",
       "       [ 55,  43,  63],\n",
       "       [ 56,  44,  64],\n",
       "       [ 60,  50,  67],\n",
       "       [ 69,  59,  76],\n",
       "       [ 79,  69,  85],\n",
       "       [ 85,  75,  91],\n",
       "       [ 68,  61,  76],\n",
       "       [ 76,  69,  84],\n",
       "       [ 84,  80,  92],\n",
       "       [ 96,  92, 104],\n",
       "       [116, 112, 124],\n",
       "       [154, 150, 162],\n",
       "       [201, 197, 208],\n",
       "       [231, 233, 241],\n",
       "       [242, 249, 252],\n",
       "       [241, 253, 253],\n",
       "       [240, 254, 253],\n",
       "       [237, 253, 252],\n",
       "       [238, 255, 252],\n",
       "       [237, 255, 255],\n",
       "       [236, 255, 254],\n",
       "       [229, 254, 250],\n",
       "       [232, 255, 253],\n",
       "       [230, 255, 253],\n",
       "       [231, 255, 254],\n",
       "       [232, 255, 255],\n",
       "       [229, 255, 252],\n",
       "       [224, 251, 247],\n",
       "       [224, 251, 247],\n",
       "       [227, 254, 250],\n",
       "       [231, 255, 253],\n",
       "       [231, 255, 253],\n",
       "       [231, 255, 253],\n",
       "       [231, 255, 253],\n",
       "       [231, 255, 253],\n",
       "       [231, 255, 253],\n",
       "       [231, 255, 253],\n",
       "       [231, 255, 253],\n",
       "       [231, 255, 253],\n",
       "       [231, 255, 253],\n",
       "       [231, 255, 253],\n",
       "       [231, 255, 253],\n",
       "       [231, 255, 253],\n",
       "       [231, 255, 253],\n",
       "       [231, 255, 253],\n",
       "       [231, 255, 253],\n",
       "       [229, 255, 255],\n",
       "       [229, 255, 255],\n",
       "       [229, 255, 253],\n",
       "       [229, 255, 253],\n",
       "       [231, 255, 253],\n",
       "       [231, 255, 253],\n",
       "       [231, 255, 252],\n",
       "       [231, 255, 252],\n",
       "       [232, 255, 251],\n",
       "       [233, 255, 252],\n",
       "       [237, 255, 254],\n",
       "       [237, 255, 254],\n",
       "       [234, 255, 251],\n",
       "       [214, 236, 231],\n",
       "       [144, 167, 159],\n",
       "       [148, 169, 160],\n",
       "       [150, 170, 157],\n",
       "       [152, 171, 156],\n",
       "       [154, 173, 158],\n",
       "       [156, 175, 160],\n",
       "       [158, 177, 162],\n",
       "       [160, 179, 164],\n",
       "       [161, 180, 165],\n",
       "       [162, 181, 166],\n",
       "       [162, 181, 166],\n",
       "       [163, 182, 167],\n",
       "       [164, 183, 168],\n",
       "       [165, 184, 169],\n",
       "       [166, 185, 170],\n",
       "       [167, 186, 171],\n",
       "       [168, 187, 172],\n",
       "       [167, 188, 173],\n",
       "       [169, 190, 175],\n",
       "       [167, 190, 175],\n",
       "       [167, 190, 175]], dtype=uint8)"
      ]
     },
     "execution_count": 4,
     "metadata": {},
     "output_type": "execute_result"
    }
   ],
   "source": [
    "# first row of image with red, green and blue channels\n",
    "\n",
    "img[0]"
   ]
  },
  {
   "cell_type": "code",
   "execution_count": 5,
   "metadata": {},
   "outputs": [
    {
     "data": {
      "text/plain": [
       "array([[[206, 229, 221],\n",
       "        [206, 229, 221],\n",
       "        [206, 229, 221],\n",
       "        ...,\n",
       "        [169, 190, 175],\n",
       "        [167, 190, 175],\n",
       "        [167, 190, 175]],\n",
       "\n",
       "       [[206, 229, 221],\n",
       "        [206, 229, 221],\n",
       "        [206, 229, 221],\n",
       "        ...,\n",
       "        [169, 190, 175],\n",
       "        [167, 190, 175],\n",
       "        [167, 190, 175]],\n",
       "\n",
       "       [[206, 229, 221],\n",
       "        [206, 229, 221],\n",
       "        [206, 229, 221],\n",
       "        ...,\n",
       "        [169, 190, 175],\n",
       "        [167, 190, 175],\n",
       "        [167, 190, 175]],\n",
       "\n",
       "       ...,\n",
       "\n",
       "       [[166, 174, 174],\n",
       "        [164, 174, 174],\n",
       "        [165, 175, 175],\n",
       "        ...,\n",
       "        [171, 189, 176],\n",
       "        [171, 190, 175],\n",
       "        [171, 190, 175]],\n",
       "\n",
       "       [[169, 174, 175],\n",
       "        [167, 175, 175],\n",
       "        [168, 176, 176],\n",
       "        ...,\n",
       "        [171, 190, 175],\n",
       "        [171, 190, 175],\n",
       "        [171, 190, 175]],\n",
       "\n",
       "       [[169, 174, 175],\n",
       "        [169, 174, 175],\n",
       "        [168, 176, 176],\n",
       "        ...,\n",
       "        [171, 190, 175],\n",
       "        [171, 190, 175],\n",
       "        [171, 190, 175]]], dtype=uint8)"
      ]
     },
     "execution_count": 5,
     "metadata": {},
     "output_type": "execute_result"
    }
   ],
   "source": [
    "# array form of image\n",
    "\n",
    "img"
   ]
  },
  {
   "cell_type": "code",
   "execution_count": null,
   "metadata": {},
   "outputs": [],
   "source": []
  },
  {
   "cell_type": "code",
   "execution_count": null,
   "metadata": {},
   "outputs": [],
   "source": []
  },
  {
   "cell_type": "markdown",
   "metadata": {},
   "source": [
    "Visualization of image \n",
    "\n",
    "import matplotlib "
   ]
  },
  {
   "cell_type": "code",
   "execution_count": 6,
   "metadata": {},
   "outputs": [],
   "source": [
    "import matplotlib.pyplot as plt"
   ]
  },
  {
   "cell_type": "code",
   "execution_count": 7,
   "metadata": {},
   "outputs": [
    {
     "data": {
      "text/plain": [
       "<matplotlib.image.AxesImage at 0x1a27aa28988>"
      ]
     },
     "execution_count": 7,
     "metadata": {},
     "output_type": "execute_result"
    },
    {
     "data": {
      "image/png": "[encoded data removed]",
      "text/plain": [
       "<Figure size 432x288 with 1 Axes>"
      ]
     },
     "metadata": {
      "needs_background": "light"
     },
     "output_type": "display_data"
    }
   ],
   "source": [
    "plt.imshow(img)"
   ]
  },
  {
   "cell_type": "markdown",
   "metadata": {},
   "source": [
    "using matplot library doesn't give us colorful image due to absence of rgb channel.\n",
    "\n",
    "by using of open cv we can get colorful image"
   ]
  },
  {
   "cell_type": "code",
   "execution_count": 8,
   "metadata": {},
   "outputs": [],
   "source": [
    "#cv2.imshow('result',img)    # here 'result' is a parameter"
   ]
  },
  {
   "cell_type": "markdown",
   "metadata": {},
   "source": [
    "we use while loop and break condition for termination of kernel after some millisecond"
   ]
  },
  {
   "cell_type": "code",
   "execution_count": 9,
   "metadata": {},
   "outputs": [],
   "source": [
    "while True:\n",
    "    cv2.imshow('result', img)\n",
    "    \n",
    "    if cv2.waitKey(2) == 27:        # 27 is ASCII code of escape\n",
    "        break                       # 2 is waiting time in millisecond\n",
    "cv2.destroyAllWindows()\n",
    "\n",
    "# use escape key to stop the kernel"
   ]
  },
  {
   "cell_type": "code",
   "execution_count": null,
   "metadata": {},
   "outputs": [],
   "source": []
  },
  {
   "cell_type": "code",
   "execution_count": null,
   "metadata": {},
   "outputs": [],
   "source": []
  },
  {
   "cell_type": "markdown",
   "metadata": {},
   "source": [
    "# 2. Detect the face by using the algorithm"
   ]
  },
  {
   "cell_type": "markdown",
   "metadata": {},
   "source": [
    "## Viola–Jones object detection framework"
   ]
  },
  {
   "cell_type": "markdown",
   "metadata": {},
   "source": [
    "The Viola–Jones object detection framework is an object detection framework which was proposed in 2001 by Paul Viola and Michael Jones.\n",
    "\n",
    "### Problem description :-\n",
    "\n",
    "The problem to be solved is detection of faces in an image. A human can do this easily, but a computer needs precise instructions and constraints. To make the task more manageable, Viola–Jones requires full view frontal upright faces. Thus in order to be detected, the entire face must point towards the camera and should not be tilted to either side. While it seems these constraints could diminish the algorithm's utility somewhat, because the detection step is most often followed by a recognition step, in practice these limits on pose are quite acceptable.\n",
    "\n",
    "\n",
    "### The characteristics of Viola–Jones algorithm which make it a good detection algorithm are:\n",
    "\n",
    "### Robust – \n",
    "            very high detection rate (true-positive rate) & very low false-positive rate always.\n",
    "### Real time – \n",
    "            For practical applications at least 2 frames per second must be processed.\n",
    "### Face detection only (not recognition) - \n",
    "            The goal is to distinguish faces from non-faces (detection is the first step in the               recognition process).\n",
    "\n",
    "\n",
    "### The algorithm has four stages:\n",
    "\n",
    "                     1. Haar Feature Selection\n",
    "                     2. Creating an Integral Image\n",
    "                     3. Adaboost Training\n",
    "                     4. Cascading Classifiers\n",
    "                     \n",
    "## Haar features :\n",
    "\n",
    "                     It is used for detectiong the black and white features from image. \n"
   ]
  },
  {
   "cell_type": "markdown",
   "metadata": {},
   "source": [
    "Upload the haarcascade_frontalface_default.xml file from github"
   ]
  },
  {
   "cell_type": "code",
   "execution_count": 10,
   "metadata": {},
   "outputs": [],
   "source": [
    "# load the file\n",
    "\n",
    "haar_data = cv2.CascadeClassifier('data.xml')"
   ]
  },
  {
   "cell_type": "code",
   "execution_count": 11,
   "metadata": {},
   "outputs": [
    {
     "data": {
      "text/plain": [
       "array([[147,  20,  70,  70],\n",
       "       [ 43,  29,  69,  69]], dtype=int32)"
      ]
     },
     "execution_count": 11,
     "metadata": {},
     "output_type": "execute_result"
    }
   ],
   "source": [
    "# it perform all operation like sliding window and featue extraction and detection of image\n",
    "\n",
    "haar_data.detectMultiScale(img)"
   ]
  },
  {
   "cell_type": "markdown",
   "metadata": {},
   "source": [
    " here, 147 denote  x-axis<br>\n",
    "       20  denote  y-axis<br>\n",
    "       70  denote  width<br>\n",
    "       70  denote  height<br>"
   ]
  },
  {
   "cell_type": "code",
   "execution_count": null,
   "metadata": {},
   "outputs": [],
   "source": []
  },
  {
   "cell_type": "code",
   "execution_count": null,
   "metadata": {},
   "outputs": [],
   "source": []
  },
  {
   "cell_type": "markdown",
   "metadata": {},
   "source": [
    "To draw the rectangel around the image use rectange predefined function,\n",
    "\n",
    "use (shift + tab) button to know about more"
   ]
  },
  {
   "cell_type": "code",
   "execution_count": 13,
   "metadata": {},
   "outputs": [],
   "source": [
    "while True:\n",
    "    \n",
    "    # detect  the faces\n",
    "    faces = haar_data.detectMultiScale(img)\n",
    "    \n",
    "    for x, y, w, h in faces:\n",
    "        cv2.rectangle(img,(x,y),(x+w , y+h), (255 , 0 , 255), 4) \n",
    "    \n",
    "    \n",
    "    cv2.imshow('result', img)\n",
    "        \n",
    "    \n",
    "    if cv2.waitKey(2) == 27:        # 27 is ASCII code of escape\n",
    "        break                       # 2 is waiting time in millisecond\n",
    "cv2.destroyAllWindows()\n",
    "\n",
    "    "
   ]
  },
  {
   "cell_type": "code",
   "execution_count": 14,
   "metadata": {},
   "outputs": [],
   "source": [
    "##cv2.rectangle(img,(x,y),(w,h),(b,g,r), border_thickness)"
   ]
  },
  {
   "cell_type": "code",
   "execution_count": 15,
   "metadata": {},
   "outputs": [],
   "source": [
    "## face detection completed"
   ]
  },
  {
   "cell_type": "code",
   "execution_count": null,
   "metadata": {},
   "outputs": [],
   "source": []
  },
  {
   "cell_type": "markdown",
   "metadata": {},
   "source": [
    "#  3. Detect the face who wear tha mask"
   ]
  },
  {
   "cell_type": "markdown",
   "metadata": {},
   "source": [
    "use capture() prefdefined function for starting the system camera.\n",
    "\n",
    "use 0 for default camera and 1 for add on camera on system.\n"
   ]
  },
  {
   "cell_type": "code",
   "execution_count": 43,
   "metadata": {},
   "outputs": [
    {
     "name": "stdout",
     "output_type": "stream",
     "text": [
      "0\n",
      "1\n",
      "2\n",
      "3\n",
      "4\n",
      "5\n",
      "6\n",
      "7\n",
      "8\n",
      "9\n",
      "10\n",
      "11\n",
      "12\n",
      "13\n",
      "14\n",
      "15\n",
      "16\n",
      "17\n",
      "18\n",
      "19\n",
      "20\n",
      "21\n",
      "22\n",
      "23\n",
      "24\n",
      "25\n",
      "26\n",
      "27\n",
      "28\n",
      "29\n",
      "30\n",
      "31\n",
      "32\n",
      "33\n",
      "34\n",
      "35\n",
      "36\n",
      "37\n",
      "38\n",
      "39\n",
      "40\n",
      "41\n",
      "42\n",
      "43\n",
      "44\n",
      "45\n",
      "46\n",
      "47\n",
      "48\n",
      "49\n",
      "50\n",
      "51\n",
      "52\n",
      "53\n",
      "54\n",
      "55\n",
      "56\n",
      "57\n",
      "58\n",
      "59\n",
      "60\n",
      "61\n",
      "62\n",
      "63\n",
      "64\n",
      "65\n",
      "66\n",
      "67\n",
      "68\n",
      "69\n",
      "70\n",
      "71\n",
      "72\n",
      "73\n",
      "74\n",
      "75\n",
      "76\n",
      "77\n",
      "78\n",
      "79\n",
      "80\n",
      "81\n",
      "82\n",
      "83\n",
      "84\n",
      "85\n",
      "86\n",
      "87\n",
      "88\n",
      "89\n",
      "90\n",
      "91\n",
      "92\n",
      "93\n",
      "94\n",
      "95\n",
      "96\n",
      "97\n",
      "98\n",
      "99\n",
      "100\n",
      "101\n",
      "102\n",
      "103\n",
      "104\n",
      "105\n",
      "106\n",
      "107\n",
      "108\n",
      "109\n",
      "110\n",
      "111\n",
      "112\n",
      "113\n",
      "114\n",
      "115\n",
      "116\n",
      "117\n",
      "118\n",
      "119\n",
      "120\n",
      "121\n",
      "122\n",
      "123\n",
      "124\n",
      "125\n",
      "126\n",
      "127\n",
      "128\n",
      "129\n",
      "130\n",
      "131\n",
      "132\n",
      "133\n",
      "134\n",
      "135\n",
      "136\n",
      "137\n",
      "138\n",
      "139\n",
      "140\n",
      "141\n",
      "142\n",
      "143\n",
      "144\n",
      "145\n",
      "146\n",
      "147\n",
      "148\n",
      "149\n",
      "150\n",
      "151\n",
      "152\n",
      "153\n",
      "154\n",
      "155\n",
      "156\n",
      "157\n",
      "158\n",
      "159\n",
      "160\n",
      "161\n",
      "162\n",
      "163\n",
      "164\n",
      "165\n",
      "166\n",
      "167\n",
      "168\n",
      "169\n",
      "170\n",
      "171\n",
      "172\n",
      "173\n",
      "174\n",
      "175\n",
      "176\n",
      "177\n",
      "178\n",
      "179\n",
      "180\n",
      "181\n",
      "182\n",
      "183\n",
      "184\n",
      "185\n",
      "186\n",
      "187\n",
      "188\n",
      "189\n",
      "190\n",
      "191\n",
      "192\n",
      "193\n",
      "194\n",
      "195\n",
      "196\n",
      "197\n",
      "198\n",
      "199\n"
     ]
    }
   ],
   "source": [
    "# to start the camera\n",
    "capture = cv2.VideoCapture(0)\n",
    "# create a data list variaable to store the without mask image\n",
    "data = []\n",
    "\n",
    "while True:\n",
    "    # to read the face\n",
    "    flag, img = capture.read()\n",
    "    \n",
    "    if flag:\n",
    "        faces = haar_data.detectMultiScale(img)\n",
    "        for x, y, w, h in faces:\n",
    "            cv2.rectangle(img,(x,y),(x+w , y+h), (255 , 0 , 255), 4)\n",
    "            # slicinf the image array\n",
    "            face = img[y:y+h, x:x+w, :]\n",
    "            # it detect multiple face so resize it to save all same size faces\n",
    "            \n",
    "            face = cv2.resize(face,(50,50))\n",
    "            print(len(data))\n",
    "            \n",
    "            if len(data) < 400:\n",
    "                data.append(face)\n",
    "                \n",
    "        cv2.imshow('result', img)\n",
    "        if cv2.waitKey(2) == 27 or len(data) >= 200: \n",
    "                                        # 27 is ASCII code of escape\n",
    "            break                       # 2 is waiting time in millisecond\n",
    "\n",
    "capture.release()\n",
    "cv2.destroyAllWindows()\n",
    "        \n",
    "    "
   ]
  },
  {
   "cell_type": "code",
   "execution_count": null,
   "metadata": {},
   "outputs": [],
   "source": []
  },
  {
   "cell_type": "code",
   "execution_count": 30,
   "metadata": {},
   "outputs": [],
   "source": [
    "# save the without mask file\n",
    "\n",
    "import numpy as np"
   ]
  },
  {
   "cell_type": "code",
   "execution_count": 40,
   "metadata": {},
   "outputs": [],
   "source": [
    "np.save('without_mask.npy',data)"
   ]
  },
  {
   "cell_type": "code",
   "execution_count": 41,
   "metadata": {},
   "outputs": [
    {
     "data": {
      "text/plain": [
       "<matplotlib.image.AxesImage at 0x1a221363ac8>"
      ]
     },
     "execution_count": 41,
     "metadata": {},
     "output_type": "execute_result"
    },
    {
     "data": {
      "image/png": "[encoded data removed]",
      "text/plain": [
       "<Figure size 432x288 with 1 Axes>"
      ]
     },
     "metadata": {
      "needs_background": "light"
     },
     "output_type": "display_data"
    }
   ],
   "source": [
    "plt.imshow(data[0])  # without mask image"
   ]
  },
  {
   "cell_type": "code",
   "execution_count": null,
   "metadata": {},
   "outputs": [],
   "source": [
    "# next step is run clee no. 39 to store the face with mask.\n",
    "# run it"
   ]
  },
  {
   "cell_type": "code",
   "execution_count": 44,
   "metadata": {},
   "outputs": [],
   "source": [
    "np.save('with_mask.npy',data)"
   ]
  },
  {
   "cell_type": "code",
   "execution_count": 45,
   "metadata": {},
   "outputs": [
    {
     "data": {
      "text/plain": [
       "<matplotlib.image.AxesImage at 0x1a2213d11c8>"
      ]
     },
     "execution_count": 45,
     "metadata": {},
     "output_type": "execute_result"
    },
    {
     "data": {
      "image/png": "[encoded data removed]",
      "text/plain": [
       "<Figure size 432x288 with 1 Axes>"
      ]
     },
     "metadata": {
      "needs_background": "light"
     },
     "output_type": "display_data"
    }
   ],
   "source": [
    "plt.imshow(data[0])"
   ]
  },
  {
   "cell_type": "code",
   "execution_count": null,
   "metadata": {},
   "outputs": [],
   "source": []
  }
 ],
 "metadata": {
  "kernelspec": {
   "display_name": "Python 3",
   "language": "python",
   "name": "python3"
  },
  "language_info": {
   "codemirror_mode": {
    "name": "ipython",
    "version": 3
   },
   "file_extension": ".py",
   "mimetype": "text/x-python",
   "name": "python",
   "nbconvert_exporter": "python",
   "pygments_lexer": "ipython3",
   "version": "3.7.6"
  }
 },
 "nbformat": 4,
 "nbformat_minor": 4
}
